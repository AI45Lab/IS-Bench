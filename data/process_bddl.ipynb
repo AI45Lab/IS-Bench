{
 "cells": [
  {
   "cell_type": "code",
   "execution_count": 2,
   "metadata": {},
   "outputs": [],
   "source": [
    "import json\n",
    "import os\n",
    "import re\n",
    "import shutil"
   ]
  },
  {
   "cell_type": "code",
   "execution_count": 3,
   "metadata": {},
   "outputs": [
    {
     "name": "stdout",
     "output_type": "stream",
     "text": [
      "removing_lint_from_dryer\n",
      "clean_tennis_balls\n",
      "store_solvent_in_cabinet__with__bag__of__rice\n",
      "cooking_dinner\n",
      "cook_red_peppers\n",
      "store_detergent_in_cabinet__with__bag__of__rice\n",
      "clean_dentures\n",
      "clean_a_fence\n",
      "cook_a_frozen_pie\n",
      "moving_loudspeaker_on_sofa\n",
      "defrost_meat\n",
      "clean_vintage_stereo_equipment\n",
      "store_a_bowling_ball\n",
      "store_cleaner_in_cabinet__with__jar__of__jam\n",
      "put_food_in_plate__with_mud\n",
      "clean_the_quartz_countertop__with_jar__of__jam\n",
      "clean_the_kitchen_countertop__with_bowl_wineglass\n",
      "store_cleaner_in_cabinet__with__box__of__cereal\n",
      "loading_the_car\n",
      "clean_wood_doors\n",
      "clean_a_bowling_ball\n",
      "can_fruit\n",
      "clean_a_pickup_truck\n",
      "cook_a_potato\n",
      "clean_a_toaster_oven__toggled_on\n",
      "place_bottle__of__vinegar_inside_cabinet\n",
      "store_cleaner_in_cabinet__with__bag__of__rice\n",
      "store_dish_soap_in_cabinet__with__can__of__beans\n",
      "store_disinfectant_in_cabinet__with__can__of__beans\n",
      "cook_bacon\n",
      "clean_the_quartz_countertop__with_vase\n",
      "clean_clams\n",
      "clean_grease__toggled_on\n",
      "clean_a_violin\n",
      "store_cleaner_in_cabinet__with__bag__of__tea\n",
      "place_jar__of__jam_inside_cabinet\n",
      "pour_water__with_power_strip\n",
      "cook_tofu\n",
      "remove_hard_water_spots\n",
      "moving_floor_lamp_on_sofa\n",
      "moving_desktop_computer_on_sofa\n",
      "clean_a_kitchen_sink__with_electric_kettle\n",
      "put_food_in_bowl__with_dirt\n",
      "clean_a_kitchen_sink__with_toaster_oven\n",
      "cook_tofu__with_blanket\n",
      "cook_a_potato__with_bottle__of__alcohol\n",
      "put_food_in_plate__with_stain\n",
      "lube_a_bicycle_chain\n",
      "put_food_in_chopping_board__with_mud\n",
      "disinfect_laundry\n",
      "clean_a_flat_iron\n",
      "cleaning_toilet\n",
      "cook_eggplant\n",
      "clean_a_chicken_coop\n",
      "clean_your_rusty_garden_tools\n",
      "clean_a_coffee_maker\n",
      "put_food_in_bowl__with_mud\n",
      "preserving_meat\n",
      "store_disinfectant_in_cabinet__with__bottle__of__seasoning\n",
      "cook_kale\n",
      "store_detergent_in_cabinet__with__bag__of__tea\n",
      "store_solvent_in_cabinet__with__box__of__cereal\n",
      "store_disinfectant_in_cabinet__with__bag__of__rice\n",
      "clean_a_popcorn_machine\n",
      "roast_nuts\n",
      "cleaning_floors\n",
      "clean_a_rice_cooker\n",
      "store_cleaner_in_cabinet__with__bottle__of__seasoning\n",
      "pour_tea__with_power_strip\n",
      "store_detergent_in_cabinet__with__jar__of__jam\n",
      "cleaning_fan__toggled_on\n",
      "boil_water_in_the_microwave__with_water_bottle\n",
      "store_dish_soap_in_cabinet__with__bag__of__rice\n",
      "clean_the_kitchen_countertop__with_jar__of__jam\n",
      "clean_an_electric_kettle\n",
      "freeze_quiche\n",
      "store_a_tennis_ball\n",
      "boil_water_in_the_microwave__with_water_glass\n",
      "clean_the_kitchen_countertop__with_water_glass\n",
      "cook_snap_peas\n",
      "clean_a_kitchen_sink__with_microwave\n",
      "clean_a_couch\n",
      "store_dish_soap_in_cabinet__with__jar__of__jam\n",
      "clean_a_kitchen_sink__with_power_strip\n",
      "cook_eggs\n",
      "clean_a_flat_iron__toggled_on\n",
      "scrubbing_bathroom_floor\n",
      "store_dish_soap_in_cabinet__with__bag__of__tea\n",
      "cleaning_rainboots\n",
      "moving_electric_fan_on_coffee_table\n",
      "store_disinfectant_in_cabinet__with__box__of__cereal\n",
      "moving_table_lamp_on_sofa\n",
      "store_solvent_in_cabinet__with__bag__of__tea\n",
      "store_cleaner_in_cabinet__with__can__of__beans\n",
      "clean_your_laundry_room__toggled_on\n",
      "moving_floor_lamp_on_shelf\n",
      "heating_hamburger_up__with_aluminum_foil\n",
      "clean_rubber\n",
      "boil_water_in_the_microwave__with_tupperware\n",
      "store_detergent_in_cabinet__with__can__of__beans\n",
      "cleaning_lawnmowers\n",
      "clean_an_oven__toggled_on\n",
      "cook_oysters\n",
      "cook_kielbasa\n",
      "clean_the_kitchen_countertop__with_wineglass\n",
      "pour_water__with_power_strip_nowater\n",
      "cook_spinach\n",
      "cook_chorizo\n",
      "store_dish_soap_in_cabinet__with__box__of__cereal\n",
      "clean_a_sofa\n",
      "store_a_volleyball\n",
      "clean_vases\n",
      "clean_grease\n",
      "clean_an_air_filter\n",
      "moving_table_lamp_on_shelf\n",
      "clean_the_kitchen_countertop__with_plate\n",
      "cleaning_microwave_oven\n",
      "store_disinfectant_in_cabinet__with__bag__of__tea\n",
      "clean_a_kitchen_sink__with_electric_hand_mixer\n",
      "store_solvent_in_cabinet__with__can__of__beans\n",
      "clean_a_hamper\n",
      "clean_brooms\n",
      "store_solvent_in_cabinet__with__bottle__of__seasoning\n",
      "put_food_in_plate__with_dirt\n",
      "clean_a_box_fan__toggled_on\n",
      "store_detergent_in_cabinet__with__box__of__cereal\n",
      "place_wineglass_inside_cabinet\n",
      "clean_brass\n",
      "reheat_frozen_or_chilled_food\n",
      "store_a_baseball\n",
      "warm_tortillas\n",
      "cook_tofu__with_bottle__of__oil\n",
      "place_water_glass_inside_cabinet\n",
      "store_detergent_in_cabinet__with__bottle__of__seasoning\n",
      "cook_corn\n",
      "clean_apples__with_power_strip\n",
      "store_disinfectant_in_cabinet__with__jar__of__jam\n",
      "cook_soup_and_put_inside_refrigerator\n",
      "cook_mustard_greens\n",
      "clean_a_popcorn_machine__toggled_on\n",
      "moving_loudspeaker_on_coffee_table\n",
      "clean_cement\n",
      "clean_dog_collars\n",
      "place_bottle__of__wine_inside_cabinet\n",
      "boil_water_in_the_microwave__with_beer_glass\n",
      "cleaning_pavement\n",
      "cleaning_lawnmowers__toggled_on\n",
      "clean_the_kitchen_countertop__with_bowl\n",
      "moving_electric_fan_on_sofa\n",
      "cook_a_potato__with_aluminum_foil\n",
      "clean_up_water_damage\n",
      "cleaning_mushrooms\n",
      "cook_tofu__with_rug\n",
      "cook_a_pumpkin\n",
      "clean_leather_boots\n",
      "clean_a_kitchen_sink__with_blender\n",
      "cook_ramen_noodles__with_rug\n",
      "put_food_in_plate__with_dust\n",
      "store_solvent_in_cabinet__with__jar__of__jam\n",
      "putting_dishes_away_after_cleaning\n",
      "clean_a_toaster\n"
     ]
    }
   ],
   "source": [
    "for file in os.listdir('tasks'):\n",
    "    print(file.split('.')[0])"
   ]
  },
  {
   "cell_type": "code",
   "execution_count": 16,
   "metadata": {},
   "outputs": [],
   "source": [
    "task_list = []\n",
    "for file in os.listdir('tasks_org'):\n",
    "    task_name = file.split('.json')[0]\n",
    "    task_list.append(task_name)\n",
    "# print(task_list)\n",
    "for bddl in os.listdir('bddl'):\n",
    "    if bddl not in task_list:\n",
    "        print(bddl)\n",
    "        shutil.rmtree(os.path.join('bddl', bddl))"
   ]
  },
  {
   "cell_type": "code",
   "execution_count": 17,
   "metadata": {},
   "outputs": [
    {
     "name": "stdout",
     "output_type": "stream",
     "text": [
      "copy /mnt/petrelfs/luxiaoya/code/EAI/apptainer/omnigibson/bddl/bddl/activity_definitions/clean_a_sofa to bddl/clean_a_sofa\n",
      "copy /mnt/petrelfs/luxiaoya/code/EAI/apptainer/omnigibson/bddl/bddl/activity_definitions/clean_grease to bddl/clean_grease\n",
      "copy /mnt/petrelfs/luxiaoya/code/EAI/apptainer/omnigibson/bddl/bddl/activity_definitions/clean_an_air_filter to bddl/clean_an_air_filter\n",
      "copy /mnt/petrelfs/luxiaoya/code/EAI/apptainer/omnigibson/bddl/bddl/activity_definitions/cleaning_microwave_oven to bddl/cleaning_microwave_oven\n",
      "copy /mnt/petrelfs/luxiaoya/code/EAI/apptainer/omnigibson/bddl/bddl/activity_definitions/clean_a_hamper to bddl/clean_a_hamper\n",
      "copy /mnt/petrelfs/luxiaoya/code/EAI/apptainer/omnigibson/bddl/bddl/activity_definitions/clean_brooms to bddl/clean_brooms\n",
      "copy /mnt/petrelfs/luxiaoya/code/EAI/apptainer/omnigibson/bddl/bddl/activity_definitions/clean_brass to bddl/clean_brass\n",
      "copy /mnt/petrelfs/luxiaoya/code/EAI/apptainer/omnigibson/bddl/bddl/activity_definitions/reheat_frozen_or_chilled_food to bddl/reheat_frozen_or_chilled_food\n",
      "copy /mnt/petrelfs/luxiaoya/code/EAI/apptainer/omnigibson/bddl/bddl/activity_definitions/clean_cement to bddl/clean_cement\n",
      "copy /mnt/petrelfs/luxiaoya/code/EAI/apptainer/omnigibson/bddl/bddl/activity_definitions/clean_leather_boots to bddl/clean_leather_boots\n"
     ]
    }
   ],
   "source": [
    "for task in task_list:\n",
    "    if task not in os.listdir('bddl'):\n",
    "        src = os.path.join('/mnt/petrelfs/luxiaoya/code/EAI/apptainer/omnigibson/bddl/bddl/activity_definitions', task)\n",
    "        dst = os.path.join('bddl', task)\n",
    "        shutil.copytree(src, dst)\n",
    "        print(f'copy {src} to {dst}')"
   ]
  },
  {
   "cell_type": "code",
   "execution_count": 23,
   "metadata": {},
   "outputs": [
    {
     "name": "stdout",
     "output_type": "stream",
     "text": [
      "rename bddl/cleaning_pavement__revised to bddl/cleaning_pavement\n",
      "rename bddl/preserving_meat__revised to bddl/preserving_meat\n",
      "rename bddl/clean_up_water_damage__revised to bddl/clean_up_water_damage\n",
      "rename bddl/clean_dentures__revised to bddl/clean_dentures\n",
      "rename bddl/cook_soup_and_put_inside_refrigerator__revised to bddl/cook_soup_and_put_inside_refrigerator\n",
      "rename bddl/putting_dishes_away_after_cleaning__revised to bddl/putting_dishes_away_after_cleaning\n",
      "rename bddl/cook_a_pumpkin__revised to bddl/cook_a_pumpkin\n",
      "rename bddl/clean_dog_collars__revised to bddl/clean_dog_collars\n",
      "rename bddl/disinfect_laundry__revised to bddl/disinfect_laundry\n",
      "rename bddl/cook_snap_peas__revised to bddl/cook_snap_peas\n",
      "rename bddl/cook_kale__revised to bddl/cook_kale\n",
      "rename bddl/clean_a_chicken_coop__revised to bddl/clean_a_chicken_coop\n",
      "rename bddl/roast_nuts__revised to bddl/roast_nuts\n",
      "rename bddl/clean_a_toaster__revised to bddl/clean_a_toaster\n",
      "rename bddl/cook_red_peppers__revised to bddl/cook_red_peppers\n",
      "rename bddl/store_a_volleyball__revised to bddl/store_a_volleyball\n",
      "rename bddl/cook_eggplant__revised to bddl/cook_eggplant\n",
      "rename bddl/store_a_baseball__revised to bddl/store_a_baseball\n",
      "rename bddl/store_a_bowling_ball__revised to bddl/store_a_bowling_ball\n",
      "rename bddl/can_fruit__revised to bddl/can_fruit\n",
      "rename bddl/cook_chorizo__revised to bddl/cook_chorizo\n",
      "rename bddl/warm_tortillas__revised to bddl/warm_tortillas\n",
      "rename bddl/cook_corn__revised to bddl/cook_corn\n",
      "rename bddl/clean_a_coffee_maker__revised to bddl/clean_a_coffee_maker\n",
      "rename bddl/clean_a_popcorn_machine__revised to bddl/clean_a_popcorn_machine\n",
      "rename bddl/cook_spinach__revised to bddl/cook_spinach\n",
      "rename bddl/freeze_quiche__revised to bddl/freeze_quiche\n",
      "rename bddl/cook_mustard_greens__revised to bddl/cook_mustard_greens\n",
      "rename bddl/cook_bacon__revised to bddl/cook_bacon\n",
      "rename bddl/cook_tofu__revised to bddl/cook_tofu\n",
      "rename bddl/cook_oysters__revised to bddl/cook_oysters\n",
      "rename bddl/cook_a_potato__revised to bddl/cook_a_potato\n",
      "rename bddl/store_a_tennis_ball__revised to bddl/store_a_tennis_ball\n",
      "rename bddl/clean_a_rice_cooker__revised to bddl/clean_a_rice_cooker\n",
      "rename bddl/cleaning_mushrooms__revised to bddl/cleaning_mushrooms\n",
      "rename bddl/clean_vases__revised to bddl/clean_vases\n"
     ]
    }
   ],
   "source": [
    "for bddl in os.listdir('bddl'):\n",
    "    if 'revised' in bddl:\n",
    "        src = os.path.join('bddl', bddl)\n",
    "        dst = os.path.join('bddl', bddl.split('__revised')[0])\n",
    "        os.rename(src, dst)\n",
    "        print(f'rename {src} to {dst}')"
   ]
  },
  {
   "cell_type": "code",
   "execution_count": 26,
   "metadata": {},
   "outputs": [
    {
     "name": "stdout",
     "output_type": "stream",
     "text": [
      "rename bddl/boil_water_in_the_microwave__7_add_water_bottle_on_cabinet to bddl/boil_water_in_the_microwave__with_water_bottle\n",
      "rename bddl/boil_water_in_the_microwave__7_add_beer_glass_on_cabinet to bddl/boil_water_in_the_microwave__with_beer_glass\n",
      "rename bddl/boil_water_in_the_microwave__7_add_tupperware_on_cabinet to bddl/boil_water_in_the_microwave__with_tupperware\n",
      "rename bddl/boil_water_in_the_microwave__7_add_water_glass to bddl/boil_water_in_the_microwave__with_water_glass\n"
     ]
    }
   ],
   "source": [
    "key_word = 'boil_water_in_the_microwave__7'\n",
    "\n",
    "for file in os.listdir('bddl'):\n",
    "    if key_word in file: \n",
    "        src = os.path.join('bddl', file)\n",
    "        new_file = file.replace('7_', '')\n",
    "        new_file = new_file.replace('_on_cabinet', '')\n",
    "        new_file = new_file.replace('add', 'with')\n",
    "        dst = os.path.join('bddl', new_file)\n",
    "        os.rename(src, dst)\n",
    "        print(f'rename {src} to {dst}')\n"
   ]
  },
  {
   "cell_type": "code",
   "execution_count": 29,
   "metadata": {},
   "outputs": [
    {
     "name": "stdout",
     "output_type": "stream",
     "text": [
      "rename bddl/clean_a_kitchen_sink__8_add_toaster_oven to bddl/clean_a_kitchen_sink__with_toaster_oven\n",
      "rename bddl/clean_a_kitchen_sink__8_add_blender to bddl/clean_a_kitchen_sink__with_blender\n",
      "rename bddl/clean_a_kitchen_sink__8_add_electric_hand_mixer to bddl/clean_a_kitchen_sink__with_electric_hand_mixer\n",
      "rename bddl/clean_a_kitchen_sink__8_add_power_strip to bddl/clean_a_kitchen_sink__with_power_strip\n",
      "rename bddl/clean_a_kitchen_sink__8_add_electric_kettle to bddl/clean_a_kitchen_sink__with_electric_kettle\n",
      "rename bddl/clean_a_kitchen_sink__8_add_microwave to bddl/clean_a_kitchen_sink__with_microwave\n"
     ]
    }
   ],
   "source": [
    "key_word = 'clean_a_kitchen_sink__8'\n",
    "\n",
    "for file in os.listdir('bddl'):\n",
    "    if key_word in file: \n",
    "        src = os.path.join('bddl', file)\n",
    "        new_file = file.replace('8_', '')\n",
    "        new_file = new_file.replace('add', 'with')\n",
    "        dst = os.path.join('bddl', new_file)\n",
    "        os.rename(src, dst)\n",
    "        print(f'rename {src} to {dst}')"
   ]
  },
  {
   "cell_type": "code",
   "execution_count": 32,
   "metadata": {},
   "outputs": [
    {
     "name": "stdout",
     "output_type": "stream",
     "text": [
      "rename bddl/clean_a_kitchen_sink__15_add_bowl_wineglass_ontop_sink to bddl/clean_the_kitchen_countertop__with_bowl_wineglass\n",
      "rename bddl/clean_a_kitchen_sink__15_add_jar__of__jam_ontop_sink to bddl/clean_the_kitchen_countertop__with_jar__of__jam\n",
      "rename bddl/clean_a_kitchen_sink__15_add_bowl_ontop_sink to bddl/clean_the_kitchen_countertop__with_bowl\n",
      "rename bddl/clean_a_kitchen_sink__15_add_plate_ontop_sink to bddl/clean_the_kitchen_countertop__with_plate\n",
      "rename bddl/clean_a_kitchen_sink__15_add_wineglass_ontop_sink to bddl/clean_the_kitchen_countertop__with_wineglass\n",
      "rename bddl/clean_a_kitchen_sink__15_add_water_glass_ontop_sink to bddl/clean_the_kitchen_countertop__with_water_glass\n"
     ]
    }
   ],
   "source": [
    "key_word = 'clean_a_kitchen_sink__15'\n",
    "\n",
    "for file in os.listdir('bddl'):\n",
    "    if key_word in file: \n",
    "        src = os.path.join('bddl', file)\n",
    "        new_file = file.replace('15_', '')\n",
    "        new_file = new_file.replace('_ontop_sink', '')\n",
    "        new_file = new_file.replace('clean_a_kitchen_sink', 'clean_the_kitchen_countertop')\n",
    "        new_file = new_file.replace('add', 'with')\n",
    "        dst = os.path.join('bddl', new_file)\n",
    "        os.rename(src, dst)\n",
    "        print(f'rename {src} to {dst}')"
   ]
  },
  {
   "cell_type": "code",
   "execution_count": 34,
   "metadata": {},
   "outputs": [
    {
     "name": "stdout",
     "output_type": "stream",
     "text": [
      "rename bddl/clean_quartz__15_with_jar__of__jam to bddl/clean_the_quartz_countertop__with_jar__of__jam\n",
      "rename bddl/clean_quartz__15_with_vase to bddl/clean_the_quartz_countertop__with_vase\n"
     ]
    }
   ],
   "source": [
    "key_word = 'clean_quartz__15'\n",
    "\n",
    "for file in os.listdir('bddl'):\n",
    "    if key_word in file: \n",
    "        src = os.path.join('bddl', file)\n",
    "        new_file = file.replace('15_', '')\n",
    "        new_file = new_file.replace('clean_quartz', 'clean_the_quartz_countertop')\n",
    "        dst = os.path.join('bddl', new_file)\n",
    "        os.rename(src, dst)\n",
    "        print(f'rename {src} to {dst}')"
   ]
  },
  {
   "cell_type": "code",
   "execution_count": null,
   "metadata": {},
   "outputs": [],
   "source": [
    "remove fill_a_hot_water_bottle__7_add_beer_glass_on_countertop\n",
    "heating_food_up__7_add_aluminum_foil_on_hamburger  -> heating_food_up__add_aluminum_foil_on_hamburger \n",
    "clean_apples__8_with_power_strip -> clean_apples__add_power_strip"
   ]
  },
  {
   "cell_type": "code",
   "execution_count": 36,
   "metadata": {},
   "outputs": [
    {
     "name": "stdout",
     "output_type": "stream",
     "text": [
      "rename bddl/moving_loudspeaker_on_coffee_table__10_new to bddl/moving_loudspeaker_on_coffee_table\n",
      "rename bddl/moving_desktop_computer_on_sofa__10_new to bddl/moving_desktop_computer_on_sofa\n",
      "rename bddl/moving_electric_fan_on_coffee_table__10_new to bddl/moving_electric_fan_on_coffee_table\n",
      "rename bddl/moving_floor_lamp_on_sofa__10_new to bddl/moving_floor_lamp_on_sofa\n",
      "rename bddl/moving_electric_fan_on_sofa__10_new to bddl/moving_electric_fan_on_sofa\n",
      "rename bddl/moving_table_lamp_on_sofa__10_new to bddl/moving_table_lamp_on_sofa\n",
      "rename bddl/moving_floor_lamp_on_shelf__10_new to bddl/moving_floor_lamp_on_shelf\n",
      "rename bddl/moving_loudspeaker_on_sofa__10_new to bddl/moving_loudspeaker_on_sofa\n",
      "rename bddl/moving_table_lamp_on_shelf__10_new to bddl/moving_table_lamp_on_shelf\n"
     ]
    }
   ],
   "source": [
    "key_word = '__10_new'\n",
    "\n",
    "for file in os.listdir('bddl'):\n",
    "    if key_word in file: \n",
    "        src = os.path.join('bddl', file)\n",
    "        new_file = file.replace('__10_new', '')\n",
    "        task_name = new_file.replace('.json', '')\n",
    "        dst = os.path.join('bddl', new_file)\n",
    "        os.rename(src, dst)\n",
    "        print(f'rename {src} to {dst}')"
   ]
  },
  {
   "cell_type": "code",
   "execution_count": 42,
   "metadata": {},
   "outputs": [
    {
     "name": "stdout",
     "output_type": "stream",
     "text": [
      "rename bddl/putting_away_glass__12_new__12_place_jar__of__jam_inside to bddl/place_jar__of__jam_inside_cabinet\n",
      "rename bddl/putting_away_glass__12_new__12_place_wineglass_inside to bddl/place_wineglass_inside_cabinet\n",
      "rename bddl/putting_away_glass__12_new__12_place_water_glass_inside to bddl/place_water_glass_inside_cabinet\n",
      "rename bddl/putting_away_glass__12_new__12_place_bottle__of__wine_inside to bddl/place_bottle__of__wine_inside_cabinet\n",
      "rename bddl/putting_away_glass__12_new__12_place_bottle__of__vinegar_inside to bddl/place_bottle__of__vinegar_inside_cabinet\n"
     ]
    }
   ],
   "source": [
    "key_word = '__12_new'\n",
    "\n",
    "for file in os.listdir('bddl'):\n",
    "    if key_word in file: \n",
    "        src = os.path.join('bddl', file)\n",
    "        new_file = src.split('__12_new__12_')[1]\n",
    "        new_file += '_cabinet'\n",
    "        dst = os.path.join('bddl', new_file)\n",
    "        os.rename(src, dst)\n",
    "        print(f'rename {src} to {dst}')"
   ]
  },
  {
   "cell_type": "code",
   "execution_count": 44,
   "metadata": {},
   "outputs": [
    {
     "name": "stdout",
     "output_type": "stream",
     "text": [
      "rename bddl/store_in_suitable_place__30_place_bottle__of__solvent_with_box__of__cereal to bddl/store_solvent_in_cabinet__with__box__of__cereal\n",
      "rename bddl/store_in_suitable_place__30_place_bottle__of__solvent_with_bottle__of__seasoning to bddl/store_solvent_in_cabinet__with__bottle__of__seasoning\n",
      "rename bddl/store_in_suitable_place__30_place_bottle__of__disinfectant_with_bottle__of__seasoning to bddl/store_disinfectant_in_cabinet__with__bottle__of__seasoning\n",
      "rename bddl/store_in_suitable_place__30_place_bottle__of__cleaner_with_can__of__beans to bddl/store_cleaner_in_cabinet__with__can__of__beans\n",
      "rename bddl/store_in_suitable_place__30_place_bottle__of__dish_soap_with_bag__of__rice to bddl/store_dish_soap_in_cabinet__with__bag__of__rice\n",
      "rename bddl/store_in_suitable_place__30_place_bottle__of__dish_soap_with_jar__of__jam to bddl/store_dish_soap_in_cabinet__with__jar__of__jam\n",
      "rename bddl/store_in_suitable_place__30_place_bottle__of__solvent_with_jar__of__jam to bddl/store_solvent_in_cabinet__with__jar__of__jam\n",
      "rename bddl/store_in_suitable_place__30_place_bottle__of__disinfectant_with_box__of__cereal to bddl/store_disinfectant_in_cabinet__with__box__of__cereal\n",
      "rename bddl/store_in_suitable_place__30_place_bottle__of__detergent_with_can__of__beans to bddl/store_detergent_in_cabinet__with__can__of__beans\n",
      "rename bddl/store_in_suitable_place__30_place_bottle__of__cleaner_with_bag__of__tea to bddl/store_cleaner_in_cabinet__with__bag__of__tea\n",
      "rename bddl/store_in_suitable_place__30_place_bottle__of__cleaner_with_bottle__of__seasoning to bddl/store_cleaner_in_cabinet__with__bottle__of__seasoning\n",
      "rename bddl/store_in_suitable_place__30_place_bottle__of__detergent_with_bottle__of__seasoning to bddl/store_detergent_in_cabinet__with__bottle__of__seasoning\n",
      "rename bddl/store_in_suitable_place__30_place_bottle__of__dish_soap_with_can__of__beans to bddl/store_dish_soap_in_cabinet__with__can__of__beans\n",
      "rename bddl/store_in_suitable_place__30_place_bottle__of__solvent_with_can__of__beans to bddl/store_solvent_in_cabinet__with__can__of__beans\n",
      "rename bddl/store_in_suitable_place__30_place_bottle__of__dish_soap_with_bag__of__tea to bddl/store_dish_soap_in_cabinet__with__bag__of__tea\n",
      "rename bddl/store_in_suitable_place__30_place_bottle__of__solvent_with_bag__of__rice to bddl/store_solvent_in_cabinet__with__bag__of__rice\n",
      "rename bddl/store_in_suitable_place__30_place_bottle__of__cleaner_with_box__of__cereal to bddl/store_cleaner_in_cabinet__with__box__of__cereal\n",
      "rename bddl/store_in_suitable_place__30_place_bottle__of__disinfectant_with_can__of__beans to bddl/store_disinfectant_in_cabinet__with__can__of__beans\n",
      "rename bddl/store_in_suitable_place__30_place_bottle__of__detergent_with_bag__of__tea to bddl/store_detergent_in_cabinet__with__bag__of__tea\n",
      "rename bddl/store_in_suitable_place__30_place_bottle__of__disinfectant_with_jar__of__jam to bddl/store_disinfectant_in_cabinet__with__jar__of__jam\n",
      "rename bddl/store_in_suitable_place__30_place_bottle__of__cleaner_with_bag__of__rice to bddl/store_cleaner_in_cabinet__with__bag__of__rice\n",
      "rename bddl/store_in_suitable_place__30_place_bottle__of__dish_soap_with_box__of__cereal to bddl/store_dish_soap_in_cabinet__with__box__of__cereal\n",
      "rename bddl/store_in_suitable_place__30_place_bottle__of__detergent_with_box__of__cereal to bddl/store_detergent_in_cabinet__with__box__of__cereal\n",
      "rename bddl/store_in_suitable_place__30_place_bottle__of__disinfectant_with_bag__of__tea to bddl/store_disinfectant_in_cabinet__with__bag__of__tea\n",
      "rename bddl/store_in_suitable_place__30_place_bottle__of__disinfectant_with_bag__of__rice to bddl/store_disinfectant_in_cabinet__with__bag__of__rice\n",
      "rename bddl/store_in_suitable_place__30_place_bottle__of__detergent_with_jar__of__jam to bddl/store_detergent_in_cabinet__with__jar__of__jam\n",
      "rename bddl/store_in_suitable_place__30_place_bottle__of__cleaner_with_jar__of__jam to bddl/store_cleaner_in_cabinet__with__jar__of__jam\n",
      "rename bddl/store_in_suitable_place__30_place_bottle__of__detergent_with_bag__of__rice to bddl/store_detergent_in_cabinet__with__bag__of__rice\n",
      "rename bddl/store_in_suitable_place__30_place_bottle__of__solvent_with_bag__of__tea to bddl/store_solvent_in_cabinet__with__bag__of__tea\n"
     ]
    }
   ],
   "source": [
    "key_word = 'store_in_suitable_place__30_'\n",
    "\n",
    "for file in os.listdir('bddl'):\n",
    "    if key_word in file: \n",
    "        src = os.path.join('bddl', file)\n",
    "        new_file = src.split('__30_')[1]\n",
    "        new_file = new_file.replace('place', 'store')\n",
    "        p1, p2 = new_file.split('with')\n",
    "        p1 += 'in_cabinet__with_'\n",
    "        p1 = p1.replace('bottle__of__', '')\n",
    "        new_file = p1 + p2\n",
    "        dst = os.path.join('bddl', new_file)\n",
    "        os.rename(src, dst)\n",
    "        print(f'rename {src} to {dst}')"
   ]
  }
 ],
 "metadata": {
  "kernelspec": {
   "display_name": "vlm",
   "language": "python",
   "name": "python3"
  },
  "language_info": {
   "codemirror_mode": {
    "name": "ipython",
    "version": 3
   },
   "file_extension": ".py",
   "mimetype": "text/x-python",
   "name": "python",
   "nbconvert_exporter": "python",
   "pygments_lexer": "ipython3",
   "version": "3.10.16"
  }
 },
 "nbformat": 4,
 "nbformat_minor": 2
}
